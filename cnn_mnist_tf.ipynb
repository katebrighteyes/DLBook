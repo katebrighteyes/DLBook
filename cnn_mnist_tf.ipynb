{
 "cells": [
  {
   "cell_type": "markdown",
   "metadata": {},
   "source": [
    "# LeNet - CNN Tensorflow 예제"
   ]
  },
  {
   "cell_type": "code",
   "execution_count": null,
   "metadata": {},
   "outputs": [],
   "source": [
    "# -*- coding: utf-8 -*-\n",
    "\n",
    "# 1. 패키지 임포트\n",
    "import tensorflow as tf\n",
    "import random\n",
    "from tensorflow.examples.tutorials.mnist import input_data\n",
    "\n",
    "tf.set_random_seed(777)  # reproducibility\n",
    "\n",
    "# 2. mnist 데이터 다운로드\n",
    "mnist = input_data.read_data_sets(\"./temp/MNIST_data/\", one_hot=True)"
   ]
  },
  {
   "cell_type": "code",
   "execution_count": null,
   "metadata": {},
   "outputs": [],
   "source": [
    "# 3. 하이퍼파라미터 세팅\n",
    "learning_rate = 0.01\n",
    "epochs = 20\n",
    "batch_size = 128\n",
    "display_step = 1\n",
    "\n",
    "# 4. 플레이스홀더 정의\n",
    "X = tf.placeholder(tf.float32, [None, 784])\n",
    "X_img = tf.reshape(X, [-1, 28, 28, 1])   # img 28x28x1 (black/white)\n",
    "Y = tf.placeholder(tf.float32, [None, 10])"
   ]
  },
  {
   "cell_type": "code",
   "execution_count": null,
   "metadata": {},
   "outputs": [],
   "source": [
    "# 5. 3 레이어 CNN 모델 함수\n",
    "def CNN_fuction(x):\n",
    "\n",
    "    # 6. CNN 모델의 Conv 레이어 1\n",
    "    W1 = tf.Variable(tf.random_normal([3, 3, 1, 32], stddev=0.01))\n",
    "    L1 = tf.nn.conv2d(X_img, W1, strides=[1, 1, 1, 1], padding='SAME')\n",
    "    L1 = tf.nn.relu(L1)\n",
    "    L1 = tf.nn.max_pool(L1, ksize=[1, 2, 2, 1],\n",
    "                    strides=[1, 2, 2, 1], padding='SAME')\n",
    "\n",
    "    # 7. CNN 모델의 Conv 레이어 2\n",
    "    W2 = tf.Variable(tf.random_normal([3, 3, 32, 64], stddev=0.01))\n",
    "    L2 = tf.nn.conv2d(L1, W2, strides=[1, 1, 1, 1], padding='SAME')\n",
    "    L2 = tf.nn.relu(L2)\n",
    "    L2 = tf.nn.max_pool(L2, ksize=[1, 2, 2, 1], strides=[1, 2, 2, 1], padding='SAME')\n",
    "    L2_flat = tf.reshape(L2, [-1, 7 * 7 * 64])\n",
    "\n",
    "    # 8. CNN 모델의 FC 레이어\n",
    "    W3 = tf.get_variable(\"W3\", shape=[7 * 7 * 64, 10], initializer=tf.contrib.layers.xavier_initializer())\n",
    "    b = tf.Variable(tf.random_normal([10]))\n",
    "    logits = tf.matmul(L2_flat, W3) + b\n",
    "  \n",
    "    return logits  \n"
   ]
  },
  {
   "cell_type": "code",
   "execution_count": null,
   "metadata": {},
   "outputs": [],
   "source": [
    "# 9. CNN 모델 함수 호출\n",
    "logits = CNN_fuction(X)\n",
    "\n",
    "# 10. 손실함수와 최적화 함수\n",
    "cost =  tf.reduce_mean(tf.nn.softmax_cross_entropy_with_logits(\n",
    "    logits=logits, labels=Y))\n",
    "optimizer = tf.train.AdamOptimizer(learning_rate=learning_rate).minimize(cost)\n",
    "\n",
    "# 11. 세션 시작\n",
    "sess = tf.Session()\n",
    "sess.run(tf.global_variables_initializer())\n",
    "\n",
    "# 12. 훈련\n",
    "print(\"[CNN Trainig Start]\")\n",
    "print(mnist.train.num_examples / batch_size)"
   ]
  },
  {
   "cell_type": "code",
   "execution_count": null,
   "metadata": {},
   "outputs": [],
   "source": [
    "for epoch in range(epochs):\n",
    "    average_loss = 0\n",
    "    total_batch = int(mnist.train.num_examples / batch_size)\n",
    "\n",
    "    for i in range(total_batch):\n",
    "        batch_xs, batch_ys = mnist.train.next_batch(batch_size)\n",
    "        feed_dict = {X: batch_xs, Y: batch_ys}\n",
    "        c, _ = sess.run([cost, optimizer], feed_dict=feed_dict)\n",
    "        average_loss += c / total_batch\n",
    "\t\t\n",
    "\t# 13. 훈련 상태(현재 에포크의 손실 값) 출력\n",
    "    if epoch % display_step == 0:\n",
    "        print(\"[Epoch] %d, [Loss] %f\" % ((epoch+1), average_loss))\n",
    "\t#print(\"[Epoch] %d, [Loss] %f\" % ((epoch+1), average_loss))\n",
    "\n",
    "print(\"[CNN Trainig End]\")\n"
   ]
  },
  {
   "cell_type": "code",
   "execution_count": null,
   "metadata": {},
   "outputs": [],
   "source": [
    "# 14. 랜덤 데이터를 이용한 완성된 모델 예측\n",
    "r = random.randint(0, mnist.test.num_examples - 1)\n",
    "print(\"[Label] \", sess.run(tf.argmax(mnist.test.labels[r:r + 1], 1)))\n",
    "print(\"[Prediction] : \", sess.run(\n",
    "    tf.argmax(logits, 1), feed_dict={X: mnist.test.images[r:r + 1]}))"
   ]
  },
  {
   "cell_type": "code",
   "execution_count": null,
   "metadata": {},
   "outputs": [],
   "source": []
  }
 ],
 "metadata": {
  "kernelspec": {
   "display_name": "vjupyter",
   "language": "python",
   "name": "vjupyter"
  },
  "language_info": {
   "codemirror_mode": {
    "name": "ipython",
    "version": 3
   },
   "file_extension": ".py",
   "mimetype": "text/x-python",
   "name": "python",
   "nbconvert_exporter": "python",
   "pygments_lexer": "ipython3",
   "version": "3.6.9"
  }
 },
 "nbformat": 4,
 "nbformat_minor": 4
}
